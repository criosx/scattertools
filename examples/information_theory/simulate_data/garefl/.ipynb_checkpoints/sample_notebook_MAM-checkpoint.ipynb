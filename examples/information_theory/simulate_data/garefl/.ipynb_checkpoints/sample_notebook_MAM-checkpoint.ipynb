{
 "cells": [
  {
   "cell_type": "markdown",
   "id": "551d0249",
   "metadata": {},
   "source": [
    "# Imports"
   ]
  },
  {
   "cell_type": "code",
   "execution_count": 1,
   "id": "4c0454bf",
   "metadata": {
    "scrolled": true
   },
   "outputs": [
    {
     "name": "stdout",
     "output_type": "stream",
     "text": [
      "/Users/frank/Dropbox/My Mac (PN115993.campus.nist.gov)/Documents/programming/molgroups/examples/information_theory/simulate_data/garefl\r\n"
     ]
    }
   ],
   "source": [
    "!pwd\n",
    "import sys\n",
    "sys.path.append(\"..\")\n",
    "from bumps.names import Curve, fit, FitProblem\n",
    "from bumps.dream.state import load_state\n",
    "import matplotlib.pyplot as plt\n",
    "import numpy as np\n",
    "import scipy.fft as fft\n",
    "import molgroups as mol\n",
    "import os\n"
   ]
  },
  {
   "cell_type": "markdown",
   "id": "3b09fcea",
   "metadata": {},
   "source": [
    "# Create Short Example Fit"
   ]
  },
  {
   "cell_type": "code",
   "execution_count": 2,
   "id": "17f4ced2",
   "metadata": {},
   "outputs": [
    {
     "name": "stdout",
     "output_type": "stream",
     "text": [
      "zsh:1: /usr/local/bin//refl1d: bad interpreter: /usr/local/opt/python@3.8/bin/python3.8: no such file or directory\n",
      "# /Users/frank/opt/anaconda3/envs/Python37/bin/refl1d run.py --fit=dream --store=T --init=lhs --parallel --burn=4 --steps=4 --overwrite --seed=940263\n",
      "-- Model 0 kr031.refl\n",
      "[0] = d_oxide = 20.8 in [5,40]\n",
      "[1] = d_Cr = 20.8 in [10,60]\n",
      "[2] = d_gold = 120 in [120,180]\n",
      "[3] = l_tether = 6 in [6,18]\n",
      "[4] = l_lipid1 = 8 in [8,22]\n",
      "[5] = l_lipid2 = 7 in [7,20]\n",
      "[6] = dl_lipid_gcrinse1 = 0 in [-3,1]\n",
      "[7] = nf_tether = 0.4 in [0.4,1]\n",
      "[8] = mult_tether = 0.1 in [0.1,4]\n",
      "[9] = vf_bilayer = 0.8 in [0.8,1]\n",
      "[10] = vf_bilayer_gcrinse1 = 0.6 in [0.6,1]\n",
      "[11] = fraction_rinse2 = 0.5 in [0.5,1]\n",
      "[12] = dp_on0 = 0 in [-7,15]\n",
      "[13] = dp_on1 = 0 in [-7,7]\n",
      "[14] = dp_on2 = 0 in [-7,7]\n",
      "[15] = dp_on3 = 0 in [-7,7]\n",
      "[16] = dp_on4 = 0 in [-7,7]\n",
      "[17] = dp_on5 = 0 in [-7,7]\n",
      "[18] = dp_on6 = 0 in [-7,7]\n",
      "[19] = dp_on7 = 0 in [-7,7]\n",
      "[20] = dp_on8 = 0 in [-7,7]\n",
      "[21] = vf_on1 = 0 in [-0.001,0.1]\n",
      "[22] = vf_on2 = 0 in [-0.001,0.4]\n",
      "[23] = vf_on3 = 0 in [-0.001,0.5]\n",
      "[24] = vf_on4 = 0 in [-0.001,0.4]\n",
      "[25] = vf_on5 = 0 in [-0.001,0.4]\n",
      "[26] = vf_on6 = 0 in [-0.001,0.4]\n",
      "[27] = vf_on7 = 0 in [-0.001,0.4]\n",
      "[28] = frac2_on0 = 1 in [0,1]\n",
      "[29] = frac2_on1 = 0 in [0,1]\n",
      "[30] = frac2_on2 = 0 in [0,1]\n",
      "[31] = frac2_on3 = 0 in [0,1]\n",
      "[32] = frac2_on4 = 0 in [0,1]\n",
      "[33] = frac2_on5 = 0 in [0,1]\n",
      "[34] = frac2_on6 = 0 in [0,1]\n",
      "[35] = frac2_on7 = 0 in [0,1]\n",
      "[36] = rho_SiOx = 3.55 in [3.2,3.8]\n",
      "[37] = rho_Cr = 3.22 in [2.7,4.25]\n",
      "[38] = rho_Au = 4.45 in [4.2,4.8]\n",
      "[39] = rho_solv_0 = 6.34 in [5.8,6.34]\n",
      "[40] = rho_solv_1 = -0.1 in [-0.56,-0.1]\n",
      "[41] = rho_solv_2 = -0.1 in [-0.56,-0.1]\n",
      "[42] = rho_solv_3 = 6.34 in [5.8,6.34]\n",
      "[43] = global_rough = 1 in [1,25]\n",
      "[44] = rough_cr_au = 1 in [1,10]\n",
      "[45] = sigma = 2 in [2,5]\n",
      "[46] = thetaoffset0 = 0 in [-0.01,0.01]\n",
      "[47] = background_0 = -5 in [-9,-5]\n",
      "[48] = background_1 = -5 in [-9,-5]\n",
      "[49] = background_2 = -5 in [-9,-5]\n",
      "[50] = background_3 = -5 in [-9,-5]\n",
      "\n",
      "[chisq=1140.41(49), nllf=63862.8]\n",
      "-- Model 1 kr032.refl\n",
      "None\n",
      "[chisq=137.6758(89), nllf=7709.84]\n",
      "-- Model 2 kr035.refl\n",
      "None\n",
      "[chisq=108.8442(89), nllf=6095.28]\n",
      "-- Model 3 kr036.refl\n",
      "None\n",
      "[chisq=1247.9618(89), nllf=69885.9]\n",
      "[overall chisq=743.34(14), nllf=147554]\n",
      "# steps: 4, # draws: 2040\n",
      "step 1 cost 36.19(14)\n",
      "                                 d_oxide ......|...    27.9754 in (5,40)\n",
      "                                    d_Cr |.........    10.2206 in (10,60)\n",
      "                                  d_gold ...|......    142.253 in (120,180)\n",
      "                                l_tether |.........     6.9813 in (6,18)\n",
      "                                l_lipid1 ......|...    16.9283 in (8,22)\n",
      "                                l_lipid2 ...|......    11.3647 in (7,20)\n",
      "                       dl_lipid_gcrinse1 .........|   0.717822 in (-3,1)\n",
      "                               nf_tether .....|....   0.705005 in (0.4,1)\n",
      "                             mult_tether .....|....    2.27686 in (0.1,4)\n",
      "                              vf_bilayer .......|..   0.959942 in (0.8,1)\n",
      "                     vf_bilayer_gcrinse1 .........|   0.987199 in (0.6,1)\n",
      "                         fraction_rinse2 ...|......   0.662317 in (0.5,1)\n",
      "                                  dp_on0 ........|.    11.1488 in (-7,15)\n",
      "                                  dp_on1 ......|...     2.3488 in (-7,7)\n",
      "                                  dp_on2 .........|    5.72971 in (-7,7)\n",
      "                                  dp_on3 ....|.....   -0.57387 in (-7,7)\n",
      "                                  dp_on4 |.........   -5.97008 in (-7,7)\n",
      "                                  dp_on5 .|........   -5.22077 in (-7,7)\n",
      "                                  dp_on6 ....|.....  -0.692762 in (-7,7)\n",
      "                                  dp_on7 .......|..    4.05275 in (-7,7)\n",
      "                                  dp_on8 .....|....   0.365027 in (-7,7)\n",
      "                                  vf_on1 ....|.....  0.0463285 in (-0.001,0.1)\n",
      "                                  vf_on2 ......|...   0.278734 in (-0.001,0.4)\n",
      "                                  vf_on3 .......|..    0.37697 in (-0.001,0.5)\n",
      "                                  vf_on4 .|........  0.0519405 in (-0.001,0.4)\n",
      "                                  vf_on5 ...|......    0.13065 in (-0.001,0.4)\n",
      "                                  vf_on6 |.........  0.0284334 in (-0.001,0.4)\n",
      "                                  vf_on7 ....|.....   0.194474 in (-0.001,0.4)\n",
      "                               frac2_on0 ..|.......   0.266009 in (0,1)\n",
      "                               frac2_on1 ....|.....   0.406877 in (0,1)\n",
      "                               frac2_on2 .|........   0.137697 in (0,1)\n",
      "                               frac2_on3 .|........   0.173025 in (0,1)\n",
      "                               frac2_on4 .......|..    0.75801 in (0,1)\n",
      "                               frac2_on5 ...|......   0.302541 in (0,1)\n",
      "                               frac2_on6 ......|...   0.664022 in (0,1)\n",
      "                               frac2_on7 .....|....    0.50627 in (0,1)\n",
      "                                rho_SiOx ........|.    3.72919 in (3.2,3.8)\n",
      "                                  rho_Cr ......|...    3.75505 in (2.7,4.25)\n",
      "                                  rho_Au ....|.....    4.48207 in (4.2,4.8)\n",
      "                              rho_solv_0 ......|...    6.15617 in (5.8,6.34)\n",
      "                              rho_solv_1 .|........  -0.502817 in (-0.56,-0.1)\n",
      "                              rho_solv_2 .....|....  -0.324569 in (-0.56,-0.1)\n",
      "                              rho_solv_3 .......|..    6.19106 in (5.8,6.34)\n",
      "                            global_rough ......|...    15.7101 in (1,25)\n",
      "                             rough_cr_au ...|......    4.13698 in (1,10)\n",
      "                                   sigma .|........    2.43355 in (2,5)\n",
      "                            thetaoffset0 ....|..... -2.01247e-05 in (-0.01,0.01)\n",
      "                            background_0 .......|..   -5.92852 in (-9,-5)\n",
      "                            background_1 ..|.......   -8.11221 in (-9,-5)\n",
      "                            background_2 ......|...   -6.25069 in (-9,-5)\n",
      "                            background_3 .|........   -8.23018 in (-9,-5)\n",
      "step 2 cost 36.19(14)\n",
      "step 3 cost 36.19(14)\n",
      "step 4 cost 36.19(14)\n",
      "step 5 cost 35.80(14)\n",
      "step 6 cost 33.54(14)\n",
      "step 7 cost 33.54(14)\n",
      "step 8 cost 33.54(14)\n",
      "step 9 cost 33.54(14)\n",
      "step 10 cost 33.54(14)\n",
      "step 11 cost 31.32(14)\n",
      "Did not converge!\n",
      "-- Model 0 kr031.refl\n",
      "[0] = d_oxide = 27.9754 in [5,40]\n",
      "[1] = d_Cr = 10.2471 in [10,60]\n",
      "[2] = d_gold = 142.252 in [120,180]\n",
      "[3] = l_tether = 8.05362 in [6,18]\n",
      "[4] = l_lipid1 = 14.576 in [8,22]\n",
      "[5] = l_lipid2 = 12.6626 in [7,20]\n",
      "[6] = dl_lipid_gcrinse1 = -0.166917 in [-3,1]\n",
      "[7] = nf_tether = 0.507393 in [0.4,1]\n",
      "[8] = mult_tether = 2.27686 in [0.1,4]\n",
      "[9] = vf_bilayer = 0.959942 in [0.8,1]\n",
      "[10] = vf_bilayer_gcrinse1 = 0.987199 in [0.6,1]\n",
      "[11] = fraction_rinse2 = 0.662316 in [0.5,1]\n",
      "[12] = dp_on0 = 12.1952 in [-7,15]\n",
      "[13] = dp_on1 = 0.671456 in [-7,7]\n",
      "[14] = dp_on2 = 4.01153 in [-7,7]\n",
      "[15] = dp_on3 = -0.0136508 in [-7,7]\n",
      "[16] = dp_on4 = -5.97008 in [-7,7]\n",
      "[17] = dp_on5 = -5.58483 in [-7,7]\n",
      "[18] = dp_on6 = -1.72684 in [-7,7]\n",
      "[19] = dp_on7 = 4.49304 in [-7,7]\n",
      "[20] = dp_on8 = 0.365027 in [-7,7]\n",
      "[21] = vf_on1 = 0.0463285 in [-0.001,0.1]\n",
      "[22] = vf_on2 = 0.204716 in [-0.001,0.4]\n",
      "[23] = vf_on3 = 0.332134 in [-0.001,0.5]\n",
      "[24] = vf_on4 = 0.110572 in [-0.001,0.4]\n",
      "[25] = vf_on5 = 0.214571 in [-0.001,0.4]\n",
      "[26] = vf_on6 = 0.0442866 in [-0.001,0.4]\n",
      "[27] = vf_on7 = 0.205525 in [-0.001,0.4]\n",
      "[28] = frac2_on0 = 0.323825 in [0,1]\n",
      "[29] = frac2_on1 = 0.497759 in [0,1]\n",
      "[30] = frac2_on2 = 0.0810223 in [0,1]\n",
      "[31] = frac2_on3 = 0.0991714 in [0,1]\n",
      "[32] = frac2_on4 = 0.758009 in [0,1]\n",
      "[33] = frac2_on5 = 0.298384 in [0,1]\n",
      "[34] = frac2_on6 = 0.475047 in [0,1]\n",
      "[35] = frac2_on7 = 0.98004 in [0,1]\n",
      "[36] = rho_SiOx = 3.68546 in [3.2,3.8]\n",
      "[37] = rho_Cr = 3.65056 in [2.7,4.25]\n",
      "[38] = rho_Au = 4.51852 in [4.2,4.8]\n",
      "[39] = rho_solv_0 = 6.11475 in [5.8,6.34]\n",
      "[40] = rho_solv_1 = -0.559737 in [-0.56,-0.1]\n",
      "[41] = rho_solv_2 = -0.32457 in [-0.56,-0.1]\n",
      "[42] = rho_solv_3 = 6.19107 in [5.8,6.34]\n",
      "[43] = global_rough = 17.926 in [1,25]\n",
      "[44] = rough_cr_au = 6.51233 in [1,10]\n",
      "[45] = sigma = 2.05736 in [2,5]\n",
      "[46] = thetaoffset0 = 0.000858427 in [-0.01,0.01]\n",
      "[47] = background_0 = -6.71371 in [-9,-5]\n",
      "[48] = background_1 = -8.11221 in [-9,-5]\n",
      "[49] = background_2 = -6.24408 in [-9,-5]\n",
      "[50] = background_3 = -7.55685 in [-9,-5]\n",
      "\n",
      "[chisq=11.42(49), nllf=639.512]\n",
      "-- Model 1 kr032.refl\n",
      "None\n",
      "[chisq=40.8030(89), nllf=2284.97]\n",
      "-- Model 2 kr035.refl\n",
      "None\n",
      "[chisq=38.3498(89), nllf=2147.59]\n",
      "-- Model 3 kr036.refl\n",
      "None\n",
      "[chisq=20.4280(89), nllf=1143.97]\n",
      "[overall chisq=31.32(14), nllf=6216.04]\n"
     ]
    },
    {
     "name": "stdout",
     "output_type": "stream",
     "text": [
      "\u0007\r\n",
      "Figure(640x480)\r\n",
      "Figure(640x480)\r\n",
      "Figure(640x480)\r\n",
      "Figure(640x480)\r\n",
      "Figure(2695x1580)\r\n",
      "Figure(640x480)\r\n",
      "Figure(640x480)\r\n",
      "Figure(640x480)\r\n",
      "Figure(640x480)\r\n"
     ]
    }
   ],
   "source": [
    "!refl1d run.py --fit=dream --store=T --init=lhs --parallel --burn=4 --steps=4 --overwrite"
   ]
  },
  {
   "cell_type": "markdown",
   "id": "edd90e18",
   "metadata": {},
   "source": [
    "# Variables"
   ]
  },
  {
   "cell_type": "code",
   "execution_count": 2,
   "id": "5e6c29ab",
   "metadata": {},
   "outputs": [],
   "source": [
    "store = \"T\"\n",
    "setupdir = os.getcwd()\n",
    "runfile = \"run\"\n",
    "fitsource = \"garefl\""
   ]
  },
  {
   "cell_type": "markdown",
   "id": "13a6038b",
   "metadata": {},
   "source": [
    "# Fit Setup"
   ]
  },
  {
   "cell_type": "code",
   "execution_count": 3,
   "id": "353e45f9",
   "metadata": {},
   "outputs": [
    {
     "ename": "RuntimeError",
     "evalue": "file /Users/frank/Dropbox/My Mac (PN115993.campus.nist.gov)/Documents/programming/molgroups/examples/information_theory/simulate_data/garefl/run-chain.mc.gz does not exist",
     "output_type": "error",
     "traceback": [
      "\u001b[0;31m---------------------------------------------------------------------------\u001b[0m",
      "\u001b[0;31mRuntimeError\u001b[0m                              Traceback (most recent call last)",
      "\u001b[0;32m<ipython-input-3-6918a7b1a9bc>\u001b[0m in \u001b[0;36m<module>\u001b[0;34m\u001b[0m\n\u001b[1;32m      8\u001b[0m     \u001b[0mrunfile\u001b[0m\u001b[0;34m=\u001b[0m\u001b[0mrunfile\u001b[0m\u001b[0;34m,\u001b[0m\u001b[0;34m\u001b[0m\u001b[0;34m\u001b[0m\u001b[0m\n\u001b[1;32m      9\u001b[0m     \u001b[0mstate\u001b[0m\u001b[0;34m=\u001b[0m\u001b[0;32mNone\u001b[0m\u001b[0;34m,\u001b[0m\u001b[0;34m\u001b[0m\u001b[0;34m\u001b[0m\u001b[0m\n\u001b[0;32m---> 10\u001b[0;31m     \u001b[0mproblem\u001b[0m\u001b[0;34m=\u001b[0m\u001b[0;32mNone\u001b[0m\u001b[0;34m,\u001b[0m\u001b[0;34m\u001b[0m\u001b[0;34m\u001b[0m\u001b[0m\n\u001b[0m\u001b[1;32m     11\u001b[0m )\n",
      "\u001b[0;32m~/Dropbox/My Mac (PN115993.campus.nist.gov)/Documents/programming/molgroups/examples/information_theory/simulate_data/garefl/rs.py\u001b[0m in \u001b[0;36m__init__\u001b[0;34m(self, fitsource, spath, mcmcpath, runfile, state, problem)\u001b[0m\n\u001b[1;32m    816\u001b[0m             \u001b[0mself\u001b[0m\u001b[0;34m.\u001b[0m\u001b[0mInteractor\u001b[0m \u001b[0;34m=\u001b[0m \u001b[0mCRefl1DInteractor\u001b[0m\u001b[0;34m(\u001b[0m\u001b[0mspath\u001b[0m\u001b[0;34m,\u001b[0m \u001b[0mmcmcpath\u001b[0m\u001b[0;34m,\u001b[0m \u001b[0mrunfile\u001b[0m\u001b[0;34m)\u001b[0m\u001b[0;34m\u001b[0m\u001b[0;34m\u001b[0m\u001b[0m\n\u001b[1;32m    817\u001b[0m         \u001b[0;32melif\u001b[0m \u001b[0mself\u001b[0m\u001b[0;34m.\u001b[0m\u001b[0mfitsource\u001b[0m \u001b[0;34m==\u001b[0m \u001b[0;34m'garefl'\u001b[0m\u001b[0;34m:\u001b[0m\u001b[0;34m\u001b[0m\u001b[0;34m\u001b[0m\u001b[0m\n\u001b[0;32m--> 818\u001b[0;31m             \u001b[0mself\u001b[0m\u001b[0;34m.\u001b[0m\u001b[0mInteractor\u001b[0m \u001b[0;34m=\u001b[0m \u001b[0mCGaReflInteractor\u001b[0m\u001b[0;34m(\u001b[0m\u001b[0mspath\u001b[0m\u001b[0;34m,\u001b[0m \u001b[0mmcmcpath\u001b[0m\u001b[0;34m,\u001b[0m \u001b[0mrunfile\u001b[0m\u001b[0;34m)\u001b[0m\u001b[0;34m\u001b[0m\u001b[0;34m\u001b[0m\u001b[0m\n\u001b[0m\u001b[1;32m    819\u001b[0m \u001b[0;34m\u001b[0m\u001b[0m\n\u001b[1;32m    820\u001b[0m     \u001b[0;32mdef\u001b[0m \u001b[0mfnAnalyzeStatFile\u001b[0m\u001b[0;34m(\u001b[0m\u001b[0mself\u001b[0m\u001b[0;34m,\u001b[0m \u001b[0mfConfidence\u001b[0m\u001b[0;34m=\u001b[0m\u001b[0;34m-\u001b[0m\u001b[0;36m1\u001b[0m\u001b[0;34m,\u001b[0m \u001b[0msparse\u001b[0m\u001b[0;34m=\u001b[0m\u001b[0;36m0\u001b[0m\u001b[0;34m)\u001b[0m\u001b[0;34m:\u001b[0m  \u001b[0;31m# summarizes stat file\u001b[0m\u001b[0;34m\u001b[0m\u001b[0;34m\u001b[0m\u001b[0m\n",
      "\u001b[0;32m~/Dropbox/My Mac (PN115993.campus.nist.gov)/Documents/programming/molgroups/examples/information_theory/simulate_data/garefl/rs.py\u001b[0m in \u001b[0;36m__init__\u001b[0;34m(self, spath, mcmcpath, runfile)\u001b[0m\n\u001b[1;32m    486\u001b[0m \u001b[0;32mclass\u001b[0m \u001b[0mCGaReflInteractor\u001b[0m\u001b[0;34m(\u001b[0m\u001b[0mCRefl1DInteractor\u001b[0m\u001b[0;34m)\u001b[0m\u001b[0;34m:\u001b[0m\u001b[0;34m\u001b[0m\u001b[0;34m\u001b[0m\u001b[0m\n\u001b[1;32m    487\u001b[0m     \u001b[0;32mdef\u001b[0m \u001b[0m__init__\u001b[0m\u001b[0;34m(\u001b[0m\u001b[0mself\u001b[0m\u001b[0;34m,\u001b[0m \u001b[0mspath\u001b[0m\u001b[0;34m=\u001b[0m\u001b[0;34m'.'\u001b[0m\u001b[0;34m,\u001b[0m \u001b[0mmcmcpath\u001b[0m\u001b[0;34m=\u001b[0m\u001b[0;34m'.'\u001b[0m\u001b[0;34m,\u001b[0m \u001b[0mrunfile\u001b[0m\u001b[0;34m=\u001b[0m\u001b[0;34m''\u001b[0m\u001b[0;34m)\u001b[0m\u001b[0;34m:\u001b[0m\u001b[0;34m\u001b[0m\u001b[0;34m\u001b[0m\u001b[0m\n\u001b[0;32m--> 488\u001b[0;31m         \u001b[0msuper\u001b[0m\u001b[0;34m(\u001b[0m\u001b[0;34m)\u001b[0m\u001b[0;34m.\u001b[0m\u001b[0m__init__\u001b[0m\u001b[0;34m(\u001b[0m\u001b[0mspath\u001b[0m\u001b[0;34m,\u001b[0m \u001b[0mmcmcpath\u001b[0m\u001b[0;34m,\u001b[0m \u001b[0mrunfile\u001b[0m\u001b[0;34m)\u001b[0m\u001b[0;34m\u001b[0m\u001b[0;34m\u001b[0m\u001b[0m\n\u001b[0m\u001b[1;32m    489\u001b[0m \u001b[0;34m\u001b[0m\u001b[0m\n\u001b[1;32m    490\u001b[0m     \u001b[0;32mdef\u001b[0m \u001b[0mfnBackup\u001b[0m\u001b[0;34m(\u001b[0m\u001b[0mself\u001b[0m\u001b[0;34m)\u001b[0m\u001b[0;34m:\u001b[0m\u001b[0;34m\u001b[0m\u001b[0;34m\u001b[0m\u001b[0m\n",
      "\u001b[0;32m~/Dropbox/My Mac (PN115993.campus.nist.gov)/Documents/programming/molgroups/examples/information_theory/simulate_data/garefl/rs.py\u001b[0m in \u001b[0;36m__init__\u001b[0;34m(self, spath, mcmcpath, runfile)\u001b[0m\n\u001b[1;32m    476\u001b[0m \u001b[0;32mclass\u001b[0m \u001b[0mCRefl1DInteractor\u001b[0m\u001b[0;34m(\u001b[0m\u001b[0mCBumpsInteractor\u001b[0m\u001b[0;34m)\u001b[0m\u001b[0;34m:\u001b[0m\u001b[0;34m\u001b[0m\u001b[0;34m\u001b[0m\u001b[0m\n\u001b[1;32m    477\u001b[0m     \u001b[0;32mdef\u001b[0m \u001b[0m__init__\u001b[0m\u001b[0;34m(\u001b[0m\u001b[0mself\u001b[0m\u001b[0;34m,\u001b[0m \u001b[0mspath\u001b[0m\u001b[0;34m=\u001b[0m\u001b[0;34m'.'\u001b[0m\u001b[0;34m,\u001b[0m \u001b[0mmcmcpath\u001b[0m\u001b[0;34m=\u001b[0m\u001b[0;34m'.'\u001b[0m\u001b[0;34m,\u001b[0m \u001b[0mrunfile\u001b[0m\u001b[0;34m=\u001b[0m\u001b[0;34m''\u001b[0m\u001b[0;34m)\u001b[0m\u001b[0;34m:\u001b[0m\u001b[0;34m\u001b[0m\u001b[0;34m\u001b[0m\u001b[0m\n\u001b[0;32m--> 478\u001b[0;31m         \u001b[0msuper\u001b[0m\u001b[0;34m(\u001b[0m\u001b[0;34m)\u001b[0m\u001b[0;34m.\u001b[0m\u001b[0m__init__\u001b[0m\u001b[0;34m(\u001b[0m\u001b[0mspath\u001b[0m\u001b[0;34m,\u001b[0m \u001b[0mmcmcpath\u001b[0m\u001b[0;34m,\u001b[0m \u001b[0mrunfile\u001b[0m\u001b[0;34m)\u001b[0m\u001b[0;34m\u001b[0m\u001b[0;34m\u001b[0m\u001b[0m\n\u001b[0m\u001b[1;32m    479\u001b[0m \u001b[0;34m\u001b[0m\u001b[0m\n\u001b[1;32m    480\u001b[0m     \u001b[0;34m@\u001b[0m\u001b[0mstaticmethod\u001b[0m\u001b[0;34m\u001b[0m\u001b[0;34m\u001b[0m\u001b[0m\n",
      "\u001b[0;32m~/Dropbox/My Mac (PN115993.campus.nist.gov)/Documents/programming/molgroups/examples/information_theory/simulate_data/garefl/rs.py\u001b[0m in \u001b[0;36m__init__\u001b[0;34m(self, spath, mcmcpath, runfile, state, problem)\u001b[0m\n\u001b[1;32m    314\u001b[0m     \u001b[0;32mdef\u001b[0m \u001b[0m__init__\u001b[0m\u001b[0;34m(\u001b[0m\u001b[0mself\u001b[0m\u001b[0;34m,\u001b[0m \u001b[0mspath\u001b[0m\u001b[0;34m=\u001b[0m\u001b[0;34m\".\"\u001b[0m\u001b[0;34m,\u001b[0m \u001b[0mmcmcpath\u001b[0m\u001b[0;34m=\u001b[0m\u001b[0;34m\".\"\u001b[0m\u001b[0;34m,\u001b[0m \u001b[0mrunfile\u001b[0m\u001b[0;34m=\u001b[0m\u001b[0;34m\"\"\u001b[0m\u001b[0;34m,\u001b[0m \u001b[0mstate\u001b[0m\u001b[0;34m=\u001b[0m\u001b[0;32mNone\u001b[0m\u001b[0;34m,\u001b[0m \u001b[0mproblem\u001b[0m\u001b[0;34m=\u001b[0m\u001b[0;32mNone\u001b[0m\u001b[0;34m)\u001b[0m\u001b[0;34m:\u001b[0m\u001b[0;34m\u001b[0m\u001b[0;34m\u001b[0m\u001b[0m\n\u001b[1;32m    315\u001b[0m         \u001b[0msuper\u001b[0m\u001b[0;34m(\u001b[0m\u001b[0;34m)\u001b[0m\u001b[0;34m.\u001b[0m\u001b[0m__init__\u001b[0m\u001b[0;34m(\u001b[0m\u001b[0mspath\u001b[0m\u001b[0;34m,\u001b[0m \u001b[0mmcmcpath\u001b[0m\u001b[0;34m,\u001b[0m \u001b[0mrunfile\u001b[0m\u001b[0;34m)\u001b[0m\u001b[0;34m\u001b[0m\u001b[0;34m\u001b[0m\u001b[0m\n\u001b[0;32m--> 316\u001b[0;31m         \u001b[0mself\u001b[0m\u001b[0;34m.\u001b[0m\u001b[0mstate\u001b[0m \u001b[0;34m=\u001b[0m \u001b[0mself\u001b[0m\u001b[0;34m.\u001b[0m\u001b[0mfnRestoreState\u001b[0m\u001b[0;34m(\u001b[0m\u001b[0;34m)\u001b[0m \u001b[0;32mif\u001b[0m \u001b[0mstate\u001b[0m \u001b[0;34m==\u001b[0m \u001b[0;32mNone\u001b[0m \u001b[0;32melse\u001b[0m \u001b[0mstate\u001b[0m\u001b[0;34m\u001b[0m\u001b[0;34m\u001b[0m\u001b[0m\n\u001b[0m\u001b[1;32m    317\u001b[0m         \u001b[0mself\u001b[0m\u001b[0;34m.\u001b[0m\u001b[0mproblem\u001b[0m \u001b[0;34m=\u001b[0m \u001b[0mself\u001b[0m\u001b[0;34m.\u001b[0m\u001b[0mfnRestoreFitProblem\u001b[0m\u001b[0;34m(\u001b[0m\u001b[0;34m)\u001b[0m \u001b[0;32mif\u001b[0m \u001b[0mproblem\u001b[0m \u001b[0;34m==\u001b[0m \u001b[0;32mNone\u001b[0m \u001b[0;32melse\u001b[0m \u001b[0mproblem\u001b[0m\u001b[0;34m\u001b[0m\u001b[0;34m\u001b[0m\u001b[0m\n\u001b[1;32m    318\u001b[0m \u001b[0;34m\u001b[0m\u001b[0m\n",
      "\u001b[0;32m~/Dropbox/My Mac (PN115993.campus.nist.gov)/Documents/programming/molgroups/examples/information_theory/simulate_data/garefl/rs.py\u001b[0m in \u001b[0;36mfnRestoreState\u001b[0;34m(self)\u001b[0m\n\u001b[1;32m    437\u001b[0m         \u001b[0;32mimport\u001b[0m \u001b[0mbumps\u001b[0m\u001b[0;34m.\u001b[0m\u001b[0mdream\u001b[0m\u001b[0;34m.\u001b[0m\u001b[0mstate\u001b[0m\u001b[0;34m\u001b[0m\u001b[0;34m\u001b[0m\u001b[0m\n\u001b[1;32m    438\u001b[0m         \u001b[0;32mif\u001b[0m \u001b[0mpath\u001b[0m\u001b[0;34m.\u001b[0m\u001b[0misfile\u001b[0m\u001b[0;34m(\u001b[0m\u001b[0mself\u001b[0m\u001b[0;34m.\u001b[0m\u001b[0mmcmcpath\u001b[0m \u001b[0;34m+\u001b[0m \u001b[0;34m\"/\"\u001b[0m \u001b[0;34m+\u001b[0m \u001b[0mself\u001b[0m\u001b[0;34m.\u001b[0m\u001b[0mrunfile\u001b[0m \u001b[0;34m+\u001b[0m \u001b[0;34m'.py'\u001b[0m\u001b[0;34m)\u001b[0m\u001b[0;34m:\u001b[0m\u001b[0;34m\u001b[0m\u001b[0;34m\u001b[0m\u001b[0m\n\u001b[0;32m--> 439\u001b[0;31m             \u001b[0mstate\u001b[0m \u001b[0;34m=\u001b[0m \u001b[0mbumps\u001b[0m\u001b[0;34m.\u001b[0m\u001b[0mdream\u001b[0m\u001b[0;34m.\u001b[0m\u001b[0mstate\u001b[0m\u001b[0;34m.\u001b[0m\u001b[0mload_state\u001b[0m\u001b[0;34m(\u001b[0m\u001b[0mself\u001b[0m\u001b[0;34m.\u001b[0m\u001b[0mmcmcpath\u001b[0m \u001b[0;34m+\u001b[0m \u001b[0;34m\"/\"\u001b[0m \u001b[0;34m+\u001b[0m \u001b[0mself\u001b[0m\u001b[0;34m.\u001b[0m\u001b[0mrunfile\u001b[0m\u001b[0;34m)\u001b[0m\u001b[0;34m\u001b[0m\u001b[0;34m\u001b[0m\u001b[0m\n\u001b[0m\u001b[1;32m    440\u001b[0m             \u001b[0mstate\u001b[0m\u001b[0;34m.\u001b[0m\u001b[0mmark_outliers\u001b[0m\u001b[0;34m(\u001b[0m\u001b[0;34m)\u001b[0m  \u001b[0;31m# ignore outlier chains\u001b[0m\u001b[0;34m\u001b[0m\u001b[0;34m\u001b[0m\u001b[0m\n\u001b[1;32m    441\u001b[0m         \u001b[0;32melse\u001b[0m\u001b[0;34m:\u001b[0m\u001b[0;34m\u001b[0m\u001b[0;34m\u001b[0m\u001b[0m\n",
      "\u001b[0;32m~/opt/anaconda3/envs/Python37/lib/python3.7/site-packages/bumps/dream/state.py\u001b[0m in \u001b[0;36mload_state\u001b[0;34m(filename, skip, report, derived_vars)\u001b[0m\n\u001b[1;32m    231\u001b[0m \u001b[0;32mdef\u001b[0m \u001b[0mload_state\u001b[0m\u001b[0;34m(\u001b[0m\u001b[0mfilename\u001b[0m\u001b[0;34m,\u001b[0m \u001b[0mskip\u001b[0m\u001b[0;34m=\u001b[0m\u001b[0;36m0\u001b[0m\u001b[0;34m,\u001b[0m \u001b[0mreport\u001b[0m\u001b[0;34m=\u001b[0m\u001b[0;36m0\u001b[0m\u001b[0;34m,\u001b[0m \u001b[0mderived_vars\u001b[0m\u001b[0;34m=\u001b[0m\u001b[0;36m0\u001b[0m\u001b[0;34m)\u001b[0m\u001b[0;34m:\u001b[0m\u001b[0;34m\u001b[0m\u001b[0;34m\u001b[0m\u001b[0m\n\u001b[1;32m    232\u001b[0m     \u001b[0;31m# Read chain file\u001b[0m\u001b[0;34m\u001b[0m\u001b[0;34m\u001b[0m\u001b[0;34m\u001b[0m\u001b[0m\n\u001b[0;32m--> 233\u001b[0;31m     \u001b[0;32mwith\u001b[0m \u001b[0mopenmc\u001b[0m\u001b[0;34m(\u001b[0m\u001b[0mfilename\u001b[0m\u001b[0;34m+\u001b[0m\u001b[0;34m'-chain'\u001b[0m\u001b[0;34m+\u001b[0m\u001b[0mEXT\u001b[0m\u001b[0;34m)\u001b[0m \u001b[0;32mas\u001b[0m \u001b[0mfid\u001b[0m\u001b[0;34m:\u001b[0m\u001b[0;34m\u001b[0m\u001b[0;34m\u001b[0m\u001b[0m\n\u001b[0m\u001b[1;32m    234\u001b[0m         \u001b[0mchain\u001b[0m \u001b[0;34m=\u001b[0m \u001b[0mloadtxt\u001b[0m\u001b[0;34m(\u001b[0m\u001b[0mfid\u001b[0m\u001b[0;34m)\u001b[0m\u001b[0;34m\u001b[0m\u001b[0;34m\u001b[0m\u001b[0m\n\u001b[1;32m    235\u001b[0m \u001b[0;34m\u001b[0m\u001b[0m\n",
      "\u001b[0;32m~/opt/anaconda3/envs/Python37/lib/python3.7/site-packages/bumps/dream/state.py\u001b[0m in \u001b[0;36mopenmc\u001b[0;34m(filename)\u001b[0m\n\u001b[1;32m    217\u001b[0m             \u001b[0mfh\u001b[0m \u001b[0;34m=\u001b[0m \u001b[0mopen\u001b[0m\u001b[0;34m(\u001b[0m\u001b[0mfilename\u001b[0m\u001b[0;34m[\u001b[0m\u001b[0;34m:\u001b[0m\u001b[0;34m-\u001b[0m\u001b[0;36m3\u001b[0m\u001b[0;34m]\u001b[0m\u001b[0;34m,\u001b[0m \u001b[0;34m'rt'\u001b[0m\u001b[0;34m)\u001b[0m\u001b[0;34m\u001b[0m\u001b[0;34m\u001b[0m\u001b[0m\n\u001b[1;32m    218\u001b[0m         \u001b[0;32melse\u001b[0m\u001b[0;34m:\u001b[0m\u001b[0;34m\u001b[0m\u001b[0;34m\u001b[0m\u001b[0m\n\u001b[0;32m--> 219\u001b[0;31m             \u001b[0;32mraise\u001b[0m \u001b[0mRuntimeError\u001b[0m\u001b[0;34m(\u001b[0m\u001b[0;34m\"file %s does not exist\"\u001b[0m\u001b[0;34m%\u001b[0m\u001b[0mfilename\u001b[0m\u001b[0;34m)\u001b[0m\u001b[0;34m\u001b[0m\u001b[0;34m\u001b[0m\u001b[0m\n\u001b[0m\u001b[1;32m    220\u001b[0m     \u001b[0;32melse\u001b[0m\u001b[0;34m:\u001b[0m\u001b[0;34m\u001b[0m\u001b[0;34m\u001b[0m\u001b[0m\n\u001b[1;32m    221\u001b[0m         \u001b[0;32mif\u001b[0m \u001b[0mos\u001b[0m\u001b[0;34m.\u001b[0m\u001b[0mpath\u001b[0m\u001b[0;34m.\u001b[0m\u001b[0mexists\u001b[0m\u001b[0;34m(\u001b[0m\u001b[0mfilename\u001b[0m\u001b[0;34m)\u001b[0m\u001b[0;34m:\u001b[0m\u001b[0;34m\u001b[0m\u001b[0;34m\u001b[0m\u001b[0m\n",
      "\u001b[0;31mRuntimeError\u001b[0m: file /Users/frank/Dropbox/My Mac (PN115993.campus.nist.gov)/Documents/programming/molgroups/examples/information_theory/simulate_data/garefl/run-chain.mc.gz does not exist"
     ]
    }
   ],
   "source": [
    "import rs\n",
    "import os\n",
    "\n",
    "molstat = rs.CMolStat(\n",
    "    fitsource=fitsource,\n",
    "    spath=setupdir,\n",
    "    mcmcpath=store,\n",
    "    runfile=runfile,\n",
    "    state=None,\n",
    "    problem=None,\n",
    ")\n"
   ]
  },
  {
   "cell_type": "code",
   "execution_count": 4,
   "id": "166feff9",
   "metadata": {},
   "outputs": [
    {
     "name": "stdout",
     "output_type": "stream",
     "text": [
      "[]\n",
      "            Q        dQ             R            dR  fit\n",
      "0    0.008000  0.000101  9.869720e-01  2.423150e-02  2.0\n",
      "1    0.009000  0.000114  9.950770e-01  2.273190e-02  2.0\n",
      "2    0.010000  0.000126  1.014100e+00  2.316490e-02  2.0\n",
      "3    0.011000  0.000139  1.001110e+00  2.349400e-02  2.0\n",
      "4    0.012000  0.000152  1.005460e+00  2.245480e-02  2.0\n",
      "..        ...       ...           ...           ...  ...\n",
      "107  0.241000  0.003042  6.995160e-07  2.320450e-07  1.0\n",
      "108  0.243399  0.003072  2.677390e-07  2.206690e-07  1.0\n",
      "109  0.245800  0.003102  3.896460e-07  2.180490e-07  1.0\n",
      "110  0.248199  0.003132  5.117030e-07  2.155960e-07  1.0\n",
      "111  0.250600  0.003163  3.081690e-07  2.082980e-07  1.0\n",
      "\n",
      "[112 rows x 5 columns]\n",
      "            Q        dQ         R            dR  fit\n",
      "0    0.008000  0.000101  0.469817  1.167840e-02  2.0\n",
      "1    0.009000  0.000114  0.416563  9.649870e-03  2.0\n",
      "2    0.010000  0.000126  0.357995  8.323050e-03  2.0\n",
      "3    0.011000  0.000139  0.304981  7.309270e-03  2.0\n",
      "4    0.012000  0.000152  0.259368  5.925280e-03  2.0\n",
      "..        ...       ...       ...           ...  ...\n",
      "107  0.241000  0.003042  0.000001  5.901900e-07  1.0\n",
      "108  0.243399  0.003072  0.000003  5.887790e-07  1.0\n",
      "109  0.245800  0.003102  0.000002  5.773670e-07  1.0\n",
      "110  0.248199  0.003132  0.000002  5.688820e-07  1.0\n",
      "111  0.250600  0.003163  0.000002  5.567990e-07  1.0\n",
      "\n",
      "[112 rows x 5 columns]\n",
      "            Q        dQ         R            dR  fit\n",
      "0    0.008000  0.000101  0.485949  1.251100e-02  2.0\n",
      "1    0.009000  0.000114  0.413446  9.960360e-03  2.0\n",
      "2    0.010000  0.000126  0.358358  8.632590e-03  2.0\n",
      "3    0.011000  0.000139  0.308119  7.626750e-03  2.0\n",
      "4    0.012000  0.000152  0.263847  6.234750e-03  2.0\n",
      "..        ...       ...       ...           ...  ...\n",
      "107  0.241000  0.003042  0.000003  6.063900e-07  1.0\n",
      "108  0.243399  0.003072  0.000002  5.915250e-07  1.0\n",
      "109  0.245800  0.003102  0.000002  5.828670e-07  1.0\n",
      "110  0.248199  0.003132  0.000001  5.646530e-07  1.0\n",
      "111  0.250600  0.003163  0.000002  5.619850e-07  1.0\n",
      "\n",
      "[112 rows x 5 columns]\n",
      "            Q        dQ             R            dR  fit\n",
      "0    0.008000  0.000101  9.652290e-01  2.350930e-02  2.0\n",
      "1    0.009000  0.000114  9.886330e-01  2.246690e-02  2.0\n",
      "2    0.010000  0.000126  9.985310e-01  2.274740e-02  2.0\n",
      "3    0.011000  0.000139  9.953900e-01  2.336110e-02  2.0\n",
      "4    0.012000  0.000152  9.994120e-01  2.232800e-02  2.0\n",
      "..        ...       ...           ...           ...  ...\n",
      "107  0.241000  0.003042  6.717400e-07  2.059600e-07  1.0\n",
      "108  0.243399  0.003072  5.215690e-07  2.006910e-07  1.0\n",
      "109  0.245800  0.003102  3.854040e-07  1.957240e-07  1.0\n",
      "110  0.248199  0.003132  1.540790e-07  1.898900e-07  1.0\n",
      "111  0.250600  0.003163  1.119020e-07  1.863460e-07  1.0\n",
      "\n",
      "[112 rows x 5 columns]\n"
     ]
    }
   ],
   "source": [
    "molstat.fnSimulateData()"
   ]
  },
  {
   "cell_type": "code",
   "execution_count": 53,
   "id": "63e19b1e",
   "metadata": {},
   "outputs": [
    {
     "name": "stdout",
     "output_type": "stream",
     "text": [
      "1.313313213528074\n"
     ]
    },
    {
     "data": {
      "image/png": "[encoded data removed]",
      "text/plain": [
       "<Figure size 900x540 with 1 Axes>"
      ]
     },
     "metadata": {
      "needs_background": "light"
     },
     "output_type": "display_data"
    }
   ],
   "source": [
    "p = res_state.best()[0]\n",
    "problem.setp(p)\n",
    "print(problem.chisq())\n",
    "\n",
    "q, F, dq, Fy = np.loadtxt(store + \"/\" + runfile + \".dat\", skiprows=1).T\n",
    "fig, ax = plt.subplots()\n",
    "ax.errorbar(q, F, dq, zorder=1, label=\"simulation (fit target)\")\n",
    "ax.plot(q, Fy, zorder=2, label=\"median model fit as stored in optimizer\")\n",
    "ax.plot(q, Afterfit_FF, zorder=3, label=\"FF backcalculated from model fit EDP\")\n",
    "ax.plot(q, SDP_FF, zorder=4, label=\"FF backcalculated from SDP data\")\n",
    "\n",
    "ax.legend(fontsize=8)\n",
    "ax.set_xlim([q[0], q[-1]])\n",
    "ax.set_ylabel(\"|F($q_z$)| (e/Å$^2$)\", fontsize=10)\n",
    "ax.minorticks_on()\n",
    "ax.tick_params(which=\"both\", direction=\"in\", labelsize=10)\n",
    "ax.tick_params(bottom=True, top=True, left=True, right=True, which=\"both\")\n",
    "ax.set_xlabel(\"$q_z$ (Å$^{-1}$)\", fontsize=10)\n",
    "ax.figure.set_size_inches(12.5, 7.5)\n",
    "plt.savefig(store + \"/model_comparison.png\", facecolor=\"white\")\n",
    "plt.show()\n"
   ]
  },
  {
   "cell_type": "code",
   "execution_count": null,
   "id": "5c5866a3",
   "metadata": {},
   "outputs": [],
   "source": []
  }
 ],
 "metadata": {
  "interpreter": {
   "hash": "05d582df831dd7fae68dfffc73e5ea31ad7a23d6a2275d5f88151c2f48f29d76"
  },
  "kernelspec": {
   "display_name": "Python 3",
   "language": "python",
   "name": "python3"
  },
  "language_info": {
   "codemirror_mode": {
    "name": "ipython",
    "version": 3
   },
   "file_extension": ".py",
   "mimetype": "text/x-python",
   "name": "python",
   "nbconvert_exporter": "python",
   "pygments_lexer": "ipython3",
   "version": "3.7.10"
  }
 },
 "nbformat": 4,
 "nbformat_minor": 5
}
