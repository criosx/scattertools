{
 "cells": [
  {
   "cell_type": "markdown",
   "id": "551d0249",
   "metadata": {},
   "source": [
    "# Imports"
   ]
  },
  {
   "cell_type": "code",
   "execution_count": null,
   "id": "4c0454bf",
   "metadata": {
    "scrolled": true
   },
   "outputs": [],
   "source": [
    "import os\n",
    "import shutil\n",
    "import copy\n",
    "import matplotlib.pyplot as plt\n",
    "\n",
    "from scattertools.support import molstat\n",
    "from scattertools.infotheory import entropy\n",
    "\n",
    "print(os.getcwd())\n",
    "\n",
    "# always use the same testdata\n",
    "shutil.copyfile('./bu/sim0.dat', os.getcwd()+'/sim0.dat')\n",
    "shutil.copyfile('./bu/sim1.dat', os.getcwd()+'/sim1.dat')\n",
    "#shutil.copyfile('./bu/sim2.dat', os.getcwd()+'/sim2.dat')\n",
    "\n",
    "RunOptimization=True"
   ]
  },
  {
   "cell_type": "markdown",
   "id": "a67a7a38",
   "metadata": {},
   "source": [
    "# Create Short Example Fit"
   ]
  },
  {
   "cell_type": "markdown",
   "source": [
    "- The model needs to define fittable parameters with unique names, as shown below. For example, model0.scale and model1.scale would not be unique, since both parameters would be internally named 'scale' by bumps. In such a case, define parameters using the Parameter method and assign them to the models afterwards."
   ],
   "metadata": {
    "collapsed": false
   }
  },
  {
   "cell_type": "code",
   "execution_count": null,
   "id": "daa54ba5",
   "metadata": {},
   "outputs": [],
   "source": [
    "%%writefile sanssilica.py\n",
    "import numpy\n",
    "\n",
    "from bumps.names import *\n",
    "from sasmodels.core import load_model\n",
    "from sasmodels.bumps_model import Model, Experiment\n",
    "from sasmodels.data import load_data, plot_data\n",
    "\n",
    "# IMPORT THE DATA USED\n",
    "data0 = load_data('sim0.dat')\n",
    "data1 = load_data('sim1.dat')\n",
    "#data2 = load_data('sim2.dat')\n",
    "\n",
    "#setattr(data, 'qmin', 0.01)\n",
    "#setattr(data, 'qmax', 10.0)\n",
    "\n",
    "# DEFINE THE MODEL\n",
    "kernel = load_model('sphere')\n",
    "\n",
    "pars0 = dict(scale=0.002, background=0.15, sld=3.0, sld_solvent=2.4, radius=60.0, radius_pd=0.3)\n",
    "pars1 = dict(scale=0.002, background=0.15, sld=3.0, sld_solvent=3.4, radius=60.0, radius_pd=0.3)\n",
    "#pars2 = dict(scale=0.002, background=0.15, sld=3.0, sld_solvent=4.4, radius=60.0, radius_pd=0.3)\n",
    "\n",
    "model0 = Model(kernel, **pars0)\n",
    "model1 = Model(kernel, **pars1)\n",
    "#model2 = Model(kernel, **pars2)\n",
    "\n",
    "# PARAMETER RANGES (ONLY THOSE PARAMETERS ARE FITTED)\n",
    "\n",
    "background0 = Parameter(name='background0', value=0.4).range(0.01, 0.8)\n",
    "background1 = Parameter(name='background1', value=0.4).range(0.01, 0.8)\n",
    "#background2 = Parameter(name='background2', value=0.4).range(0.01, 0.8)\n",
    "sld_solvent0 = Parameter(name='sld_solvent0', value=2.0).range(-0.56, 6.4)\n",
    "sld_solvent1 = Parameter(name='sld_solvent1', value=2.0).range(-0.56, 6.4)\n",
    "#sld_solvent2 = Parameter(name='sld_solvent2', value=2.0).range(-0.56, 6.4)\n",
    "\n",
    "model0.scale.range(0.0001, 0.05)\n",
    "model0.background = background0\n",
    "model0.sld.range(1, 4)\n",
    "model0.sld_solvent = sld_solvent0\n",
    "model0.radius.range(40., 120.)\n",
    "model0.radius_pd.range(0.05, 0.7)\n",
    "\n",
    "model1.scale = model0.scale\n",
    "model1.background = background1\n",
    "model1.sld = model0.sld\n",
    "model1.sld_solvent = sld_solvent1\n",
    "model1.radius = model0.radius\n",
    "model1.radius_pd=model0.radius_pd\n",
    "\n",
    "#model2.scale = model0.scale\n",
    "#model2.background = background2\n",
    "#model2.sld = model0.sld\n",
    "#model2.sld_solvent = sld_solvent2\n",
    "#model2.radius = model0.radius\n",
    "#model2.radius_pd = model0.radius_pd\n",
    "\n",
    "\n",
    "M0 = Experiment(data=data0, model=model0)\n",
    "M1 = Experiment(data=data1, model=model1)\n",
    "#M2 = Experiment(data=data2, model=model2)\n",
    "\n",
    "problem = MultiFitProblem([M0, M1])\n",
    "#problem = MultiFitProblem([M0, M1, M2])"
   ]
  },
  {
   "cell_type": "markdown",
   "id": "edd90e18",
   "metadata": {},
   "source": [
    "# Variables"
   ]
  },
  {
   "cell_type": "code",
   "execution_count": null,
   "id": "5e6c29ab",
   "metadata": {},
   "outputs": [],
   "source": [
    "#Example is from https://github.com/SasView/sasmodels/tree/master/example\n",
    "\n",
    "store = \"T\"\n",
    "setupdir = os.getcwd()\n",
    "runfile = \"sanssilica\"\n",
    "fitsource = \"SASView\"\n",
    "\n",
    "# remove store directory if it already exists, since we do not want to reload here\n",
    "if os.path.isdir(os.path.join(setupdir, store)):\n",
    "    shutil.rmtree(os.path.join(setupdir, store))\n",
    "\n",
    "burn=5000\n",
    "steps=100\n"
   ]
  },
  {
   "cell_type": "markdown",
   "id": "13a6038b",
   "metadata": {},
   "source": [
    "# Setup Example Fit"
   ]
  },
  {
   "cell_type": "code",
   "execution_count": null,
   "id": "353e45f9",
   "metadata": {},
   "outputs": [],
   "source": [
    "fitobj = molstat.CMolStat(\n",
    "    fitsource=fitsource,\n",
    "    spath=setupdir,\n",
    "    mcmcpath=store,\n",
    "    runfile=runfile,\n",
    "    state=None,\n",
    "    problem=None,\n",
    ")"
   ]
  },
  {
   "cell_type": "code",
   "execution_count": null,
   "id": "5f1dbc48",
   "metadata": {},
   "outputs": [],
   "source": [
    "fitobj.Interactor.fnRunMCMC(burn, steps, batch=False)"
   ]
  },
  {
   "cell_type": "code",
   "execution_count": null,
   "outputs": [],
   "source": [
    "%%writefile simpar.dat\n",
    "background0 0.159031\n",
    "background1 0.295424\n",
    "sld_solvent0 3.090\n",
    "sld_solvent1 0.988\n",
    "scale 0.0007\n",
    "sld  1.355\n",
    "radius  49.67\n",
    "radius_pd 0.674"
   ],
   "metadata": {
    "collapsed": false
   }
  },
  {
   "cell_type": "code",
   "execution_count": null,
   "id": "72068763",
   "metadata": {},
   "outputs": [],
   "source": [
    "# buffer is not subtracted but treated as a fitting parameter\n",
    "sb = 0.0\n",
    "\n",
    "configuration_dataset1 = [{'lambda': 6.0,\n",
    "                            \"sample_detector_distance\": 100,\n",
    "                            'source_sample_distance': 387.6,\n",
    "                            'source_aperture_radius':5.08*0.5,\n",
    "                            'sample_aperture_radius':1.27*0.5,\n",
    "                            \"beamstop_diameter\": 10.16,\n",
    "                            \"neutron_flux\": 9e5,\n",
    "                            'time': 1200,\n",
    "                            'beam_center_x': 25,\n",
    "                            \"dlambda_lambda\":0.136,\n",
    "                            \"differential_cross_section_buffer\": sb,\n",
    "                            \"cuvette_thickness\": 0.1},\n",
    "                          {'lambda': 6.0,\n",
    "                           \"sample_detector_distance\": 400,\n",
    "                           'source_sample_distance': 850.05,\n",
    "                           'source_aperture_radius':5.08*0.5,\n",
    "                           'sample_aperture_radius':1.27*0.5,\n",
    "                           \"beamstop_diameter\": 10.16,\n",
    "                           \"neutron_flux\": 2e5,\n",
    "                           'time': 2400,\n",
    "                           \"dlambda_lambda\":0.136,\n",
    "                           \"differential_cross_section_buffer\": sb,\n",
    "                           \"cuvette_thickness\": 0.1},\n",
    "                         {'lambda': 6.0,\n",
    "                          \"sample_detector_distance\": 1300,\n",
    "                          'source_sample_distance': 1467,\n",
    "                          'source_aperture_radius':5.08*0.5,\n",
    "                          'sample_aperture_radius':1.27*0.5,\n",
    "                          \"dlambda_lambda\":0.136,\n",
    "                          \"beamstop_diameter\": 7.62,\n",
    "                          \"neutron_flux\": 8e4,\n",
    "                          'time': 3600,\n",
    "                          \"differential_cross_section_buffer\": sb,\n",
    "                          \"cuvette_thickness\": 0.1}]\n",
    "\n",
    "configuration = [configuration_dataset1, copy.deepcopy(configuration_dataset1)]\n",
    "fitobj.fnSimulateData(basefilename='sim.dat', liConfigurations=configuration, qmin=0.001, qmax=0.8, t_total=None)"
   ]
  },
  {
   "cell_type": "markdown",
   "source": [
    "Compare original and simulated data."
   ],
   "metadata": {
    "collapsed": false
   }
  },
  {
   "cell_type": "code",
   "execution_count": null,
   "id": "63e19b1e",
   "metadata": {},
   "outputs": [],
   "source": [
    "import pandas\n",
    "\n",
    "fig, ax = plt.subplots()\n",
    "\n",
    "original0 = pandas.read_csv('bu/sim0.dat', sep=' ', skip_blank_lines=True,comment='#')\n",
    "simdata0 = pandas.read_csv('sim0.dat', sep=' ', skip_blank_lines=True,comment='#')\n",
    "original1 = pandas.read_csv('bu/sim1.dat', sep=' ', skip_blank_lines=True,comment='#')\n",
    "simdata1 = pandas.read_csv('sim1.dat', sep=' ', skip_blank_lines=True,comment='#')\n",
    "\n",
    "ax.errorbar(simdata0['Q'], simdata0['I'], simdata0['dI'], label=\"sim0\")\n",
    "ax.errorbar(simdata1['Q'], simdata1['I'], simdata1['dI'], label=\"sim1\")\n",
    "ax.errorbar(original0['Q'], original0['I'], original0['dI'], label=\"original0\")\n",
    "ax.errorbar(original1['Q'], original1['I'], original1['dI'], label=\"original1\")\n",
    "\n",
    "ax.legend(fontsize=8)\n",
    "ax.set_ylabel(\"I\", fontsize=10)\n",
    "ax.set_yscale('log')\n",
    "ax.set_xscale('log')\n",
    "ax.minorticks_on()\n",
    "ax.tick_params(which=\"both\", direction=\"in\", labelsize=10)\n",
    "ax.tick_params(bottom=True, top=True, left=True, right=True, which=\"both\")\n",
    "ax.set_xlabel(\"$q$ (Å$^{-1}$)\", fontsize=10)\n",
    "ax.figure.set_size_inches(12.5, 7.5)\n",
    "#ax.set_ylim(1e-2, 1e8)\n",
    "plt.savefig(store + \"/model_comparison.png\", facecolor=\"white\")\n",
    "plt.show()\n"
   ]
  },
  {
   "cell_type": "code",
   "execution_count": null,
   "outputs": [],
   "source": [
    "fig, ax = plt.subplots()\n",
    "\n",
    "#i = 0\n",
    "#while os.path.isfile('testdata.DAT'):\n",
    "original = pandas.read_csv('bu/sim1.dat', sep=' ', skip_blank_lines=True,comment='#')\n",
    "simdata = pandas.read_csv('sim1.dat', sep=' ', skip_blank_lines=True,comment='#')\n",
    "\n",
    "ax.plot(simdata['Q'], (simdata['dI']/simdata['I']), label=\"sim\")\n",
    "ax.plot(original['Q'], (original['dI']/original['I']), label=\"original\")\n",
    "\n",
    "ax.legend(fontsize=8)\n",
    "ax.set_ylabel(\"dI/I\", fontsize=10)\n",
    "ax.set_yscale('log')\n",
    "ax.set_xscale('log')\n",
    "ax.minorticks_on()\n",
    "ax.tick_params(which=\"both\", direction=\"in\", labelsize=10)\n",
    "ax.tick_params(bottom=True, top=True, left=True, right=True, which=\"both\")\n",
    "ax.set_xlabel(\"$q$ (Å$^{-1}$)\", fontsize=10)\n",
    "ax.figure.set_size_inches(12.5, 7.5)\n",
    "#ax.set_ylim(0, 0.25)\n",
    "plt.savefig(store + \"/model_comparison.png\", facecolor=\"white\")\n",
    "plt.show()\n"
   ],
   "metadata": {
    "collapsed": false
   }
  },
  {
   "cell_type": "code",
   "execution_count": null,
   "outputs": [],
   "source": [
    "fig, ax = plt.subplots()\n",
    "\n",
    "#i = 0\n",
    "#while os.path.isfile('testdata.DAT'):\n",
    "original = pandas.read_csv('bu/sim0.dat', sep=' ', skip_blank_lines=True,comment='#')\n",
    "simdata = pandas.read_csv('sim0.dat', sep=' ', skip_blank_lines=True,comment='#')\n",
    "ax.plot(simdata['Q'], (simdata['dQ']/simdata['Q']), label=\"sim\")\n",
    "ax.plot(original['Q'], (original['dQ']/original['Q']), label=\"original\")\n",
    "\n",
    "ax.legend(fontsize=8)\n",
    "ax.set_ylabel(\"dQ/Q\", fontsize=10)\n",
    "ax.set_yscale('linear')\n",
    "ax.set_xscale('log')\n",
    "ax.minorticks_on()\n",
    "ax.tick_params(which=\"both\", direction=\"in\", labelsize=10)\n",
    "ax.tick_params(bottom=True, top=True, left=True, right=True, which=\"both\")\n",
    "ax.set_xlabel(\"$q$ (Å$^{-1}$)\", fontsize=10)\n",
    "ax.figure.set_size_inches(12.5, 7.5)\n",
    "#ax.set_ylim(0, 0.01)\n",
    "plt.savefig(store + \"/model_comparison.png\", facecolor=\"white\")\n",
    "plt.show()\n"
   ],
   "metadata": {
    "collapsed": false
   }
  },
  {
   "cell_type": "markdown",
   "source": [
    "# Experimental Optimization"
   ],
   "metadata": {
    "collapsed": false
   }
  },
  {
   "cell_type": "markdown",
   "source": [
    "* Entropypar.dat contains a list of all fit parameters with a designation, whether they are marginal (d) or nuisance (i) parameters. This is followed by the parameter name, the initial parameter value, and the fit boundaries.\n",
    "* Configuration parameters are given by a preceeding n x y, where x is the data set it applies to and y the configuration number. Specifying x,y = '*' makes this parameter apply to all configurations.\n",
    "* Any numbers x y following a fit parameter indicates that this paramter is used for this particular dataset/configuration to determine the background (incoherent crosssection). This typically applies to SLDs. The 'mode' argument for entropy.Entropy() then determines whether this is to be interpreted as an aqueous solvent or other. Sometimes, instead of subtracting an incoherent crosssection from the data, a background parameter is retained in the model. If any of the parameters is asigned an x = bi, this background will be se to the incoherent (isotropic) crosssection of the ith data set, instead of applying this value to the configuration. Fit boundaries for such backgrounds must be large enough to encompass all possible outcomes. They will not be updated dynamically.\n",
    "* If three more numbers are given, this designates that an information content search over this parameter is performed (start, stop, step).\n",
    "* A preceding f (fi or fd) at the beginning of the line indicates that the fit boundaries for such a search parameter are fixed (for example for volume fractions between 0 and 1), otherwise the fit boundary moves according to the varied parameter and the initally given fit boundaries.\n",
    "* Any theta offset currently needs to have an initial value of zero. Otherwise, refl1d will shift the q-values during data simulation with unexpected outcomes.\n",
    "* If an instrumental parameter is specified for one data set, the instrumental parameter needs to be specified for all other datasets, as well.\n",
    "* Data filenames are currently limited to sim.dat for a single file fit, or simx.dat, x = 0 ... n, for fits with multiple data sets"
   ],
   "metadata": {
    "collapsed": false
   }
  },
  {
   "cell_type": "code",
   "execution_count": null,
   "outputs": [],
   "source": [
    "text = [\n",
    "        'i b0 * background0 0.509283 0.0 2.0',\n",
    "        'i b1 * background1 0.295525 0.0 2.0',\n",
    "        'i 0 * sld_solvent0 2.0 1.98 2.02 1.5 4.5 0.1',\n",
    "        'i 1 * sld_solvent1 2.0 1.98 2.02 1.5 4.5 0.1',\n",
    "        'i _ _ scale 0.0013 0.0001 0.005',\n",
    "        'd _ _ sld  3.1 1.0 4.0',\n",
    "        'i _ _ radius  65 40 90',\n",
    "        'i _ _ radius_pd  0.3 0.1 0.5',\n",
    "        'n * * lambda 6.00',\n",
    "        'n * * differential_cross_section_buffer 0.0',\n",
    "        'n * 0 sample_detector_distance 100',\n",
    "        'n * 1 sample_detector_distance 400',\n",
    "        'n * 2 sample_detector_distance 1300',\n",
    "        'n * 0 source_sample_distance 387.6',\n",
    "        'n * 1 source_sample_distance 850.05',\n",
    "        'n * 2 source_sample_distance 1467',\n",
    "        'n * 0 neutron_flux 9e5',\n",
    "        'n * 1 neutron_flux 2e5',\n",
    "        'n * 2 neutron_flux 8e4',\n",
    "        'n * * source_aperture_radius 2.54',\n",
    "        'n * * sample_aperture_radius 0.635',\n",
    "        'n * * dlambda_lambda 0.136',\n",
    "        'n * 0 beamstop_diameter 10.16',\n",
    "        'n * 1 beamstop_diameter 10.16',\n",
    "        'n * 2 beamstop_diameter 7.62',\n",
    "        'n * 0 time 1200',\n",
    "        'n * 1 time 2400',\n",
    "        'n * 2 time 3600',\n",
    "        'n * 0 beam_center_x 25.',\n",
    "        'n * * cuvette_thickness 0.1'\n",
    "        ]\n",
    "\n",
    "f=open('entropypar.dat', 'w')\n",
    "f.writelines(line + '\\n' for line in text)\n",
    "f.close()"
   ],
   "metadata": {
    "collapsed": false
   }
  },
  {
   "cell_type": "code",
   "execution_count": null,
   "outputs": [],
   "source": [
    "# general fit setup\n",
    "setupdir = setupdir\n",
    "runfile = runfile\n",
    "store = 'T'\n",
    "fitsource = fitsource\n",
    "\n",
    "# isotropic scattering background\n",
    "# user-defined linear relationship between a SLD of the bulk solvent and the differential macroscopic scattering crosssection of the buffer\n",
    "cross_section_background = {'slope':-0.1626, 'y_intercept': 0.7980}\n",
    "mode = 'SANS_linear'\n",
    "\n",
    "# particular entropy setup\n",
    "burn = 5000\n",
    "steps = 500\n",
    "convergence = 2.0\n",
    "miniter = 3\n",
    "bClusterMode = False\n",
    "bFetchMode = False\n",
    "time = 2\n",
    "bcalcsymmetric = True\n",
    "upper_info_plotlevel = None\n",
    "plotlimits_filename = \"\"\n",
    "calcsingle = False\n",
    "\n",
    "# setup batchscript for SLURM (if used)\n",
    "script = ['#!/bin/bash\\n',\n",
    "          '#SBATCH --job-name=entro {mcmc_iteration}\\n',\n",
    "          '#SBATCH -A mc4s9np\\n', '#SBATCH -p RM\\n',\n",
    "          '#SBATCH -t 0' + str(time) + ':00:00\\n',\n",
    "          '#SBATCH -N 4\\n', '#SBATCH --ntasks-per-node 28\\n',\n",
    "          '\\n',\n",
    "          'set +x\\n',\n",
    "          'cd $SLURM_SUBMIT_DIR\\n',\n",
    "          '\\n',\n",
    "          'module load python/2.7.11_gcc\\n',\n",
    "          'export PYTHONPATH=/home/hoogerhe/bin/lib/python2.7/site-packages:/home/hoogerhe/src/bumps\\n',\n",
    "          '\\n',\n",
    "          'mpirun -np 112 python /home/hoogerhe/src/refl1d/bin/refl1d_cli.py {mcmc_dirname}/run.py --fit=dream --mpi --init=lhs --batch --pop=28 --time='\n",
    "          + str(float(time) - 0.1) + ' --thin=20 --store={mcmc_dirname}/save --burn=' + str(burn)\n",
    "          + ' --steps=' + str(steps) + '\\n'\n",
    "          ]\n",
    "# script.append('cd '+dirname+'\\n')\n"
   ],
   "metadata": {
    "collapsed": false
   }
  },
  {
   "cell_type": "code",
   "execution_count": null,
   "outputs": [],
   "source": [
    "entr = entropy.Entropy(\n",
    "    fitsource=fitsource,\n",
    "    spath=setupdir,\n",
    "    mcmcpath=store,\n",
    "    runfile=runfile,\n",
    "    mcmcburn=burn,\n",
    "    mcmcsteps=steps,\n",
    "    convergence=convergence,\n",
    "    miniter=miniter,\n",
    "    mode=mode,\n",
    "    background_rule = cross_section_background,\n",
    "    bClusterMode=bClusterMode,\n",
    "    bFetchMode=bFetchMode,\n",
    "    calc_symmetric=bcalcsymmetric,\n",
    "    upper_info_plotlevel=upper_info_plotlevel,\n",
    "    plotlimits_filename=plotlimits_filename,\n",
    "    slurmscript=script,\n",
    "    configuration = configuration\n",
    ")"
   ],
   "metadata": {
    "collapsed": false
   }
  },
  {
   "cell_type": "markdown",
   "source": [
    "The optimization might be supplemented with qmin, qmax, and qrangefromfile attributes that are applied to all datasets. These are independent of qrange limitations imparted by individual SANS configurations. When the q-range is taken from file, the first dataset (0) will be used. In most cases, provide the default values given below."
   ],
   "metadata": {
    "collapsed": false
   }
  },
  {
   "cell_type": "code",
   "execution_count": null,
   "outputs": [],
   "source": [
    "qmin = 0.001\n",
    "qmax = 0.8\n",
    "qrangefromfile = False\n",
    "t_total = None\n",
    "\n",
    "if RunOptimization:\n",
    "    entr.run_optimization(qmin=qmin, qmax=qmax, qrangefromfile=qrangefromfile, t_total=t_total, optimizer='gpCAM', jupyter_clear_output=True)"
   ],
   "metadata": {
    "collapsed": false
   }
  },
  {
   "cell_type": "code",
   "execution_count": null,
   "outputs": [],
   "source": [
    "entr.run_optimization(qmin=qmin, qmax=qmax, qrangefromfile=qrangefromfile, t_total=t_total, optimizer='gpcam', gpcam_iterations=0, jupyter_clear_output=True)"
   ],
   "metadata": {
    "collapsed": false
   }
  },
  {
   "cell_type": "code",
   "execution_count": null,
   "outputs": [],
   "source": [],
   "metadata": {
    "collapsed": false
   }
  }
 ],
 "metadata": {
  "interpreter": {
   "hash": "05d582df831dd7fae68dfffc73e5ea31ad7a23d6a2275d5f88151c2f48f29d76"
  },
  "kernelspec": {
   "display_name": "Python 3 (ipykernel)",
   "language": "python",
   "name": "python3"
  },
  "language_info": {
   "codemirror_mode": {
    "name": "ipython",
    "version": 3
   },
   "file_extension": ".py",
   "mimetype": "text/x-python",
   "name": "python",
   "nbconvert_exporter": "python",
   "pygments_lexer": "ipython3",
   "version": "3.7.12"
  }
 },
 "nbformat": 4,
 "nbformat_minor": 5
}
