{
 "cells": [
  {
   "cell_type": "markdown",
   "id": "551d0249",
   "metadata": {},
   "source": [
    "# Imports"
   ]
  },
  {
   "cell_type": "code",
   "execution_count": 1,
   "id": "4c0454bf",
   "metadata": {
    "scrolled": true
   },
   "outputs": [
    {
     "name": "stdout",
     "output_type": "stream",
     "text": [
      "/Users/frank/Dropbox/My Mac (PN115993.campus.nist.gov)/Documents/programming/molgroups/examples/information_theory/entropy_gridsearch_singlethread/garefl\r\n"
     ]
    }
   ],
   "source": [
    "!pwd\n",
    "import sys\n",
    "from bumps.names import Curve, fit, FitProblem\n",
    "from bumps.dream.state import load_state\n",
    "import matplotlib.pyplot as plt\n",
    "import numpy as np\n",
    "import scipy.fft as fft\n",
    "import os\n",
    "\n",
    "import molgroups as mol\n",
    "\n",
    "from scattertools.support import molstat\n",
    "from scattertools.support import rsdi\n",
    "\n",
    "from scattertools.infotheory import entropy"
   ]
  },
  {
   "cell_type": "markdown",
   "id": "a67a7a38",
   "metadata": {},
   "source": [
    "# Create Short Example Fit"
   ]
  },
  {
   "cell_type": "code",
   "execution_count": 2,
   "id": "10532c43",
   "metadata": {},
   "outputs": [
    {
     "name": "stdout",
     "output_type": "stream",
     "text": [
      "Overwriting setup.cc\n"
     ]
    }
   ],
   "source": [
    "%%writefile setup.cc\n",
    "#include <iostream>\n",
    "#include <cassert>\n",
    "#include \"setup.h\"\n",
    "#include \"stdio.h\"\n",
    "#include \"refl.h\"\n",
    "#include \"reflcalc.h\"\n",
    "#include \"molgroups.cc\"\n",
    "\n",
    "#define FWHM 2.354820045   // ga_refl uses FWHM. Divide by FWHM to get sigma units.\n",
    "\n",
    "//reflectivity\n",
    "#define MODELS 1\n",
    "\n",
    "//canvas for continuous distribution model\n",
    "#define CANVASSTART 1\n",
    "#define DIMENSION 200\n",
    "#define STEPSIZE 0.5\n",
    "\n",
    "/* initialising non-standard fitting variables */\n",
    "double aArea[DIMENSION], anSL[DIMENSION];\n",
    "double background[MODELS];\n",
    "char str2[2];\n",
    "\n",
    "double normarea;\n",
    "double l_lipid1, l_lipid2, vf_bilayer,  global_rough, rho_siox, l_siox, l_submembrane, sigma;\n",
    "\n",
    "ssBLM_POPC  bilayer;\n",
    "\n",
    "void fnSetContrastBilayer(double sigma, double global_rough, double rho_substrate, double rho_siox, double l_siox, double l_submembrane, double l_lipid1, double l_lipid2, double vf_bilayer, fitinfo *fit, int contraststart, int contrastend){\n",
    "    \n",
    "    double dMaxArea;\n",
    "    int i;\n",
    "    \n",
    "    for (i=contraststart; i<contrastend+1; i++) {\n",
    "        bilayer.fnSet(sigma, global_rough, rho_substrate, rho_siox, l_siox, l_submembrane, l_lipid1, l_lipid2, vf_bilayer, 0, 0);\n",
    "        dMaxArea=fnClearCanvas(aArea, anSL, DIMENSION);\n",
    "        dMaxArea=bilayer.fnWriteProfile(aArea, anSL, DIMENSION, STEPSIZE, dMaxArea);\n",
    "        normarea=dMaxArea;\n",
    "        fnWriteCanvas2Model(aArea,anSL,fit,CANVASSTART,DIMENSION,STEPSIZE,dMaxArea,normarea,i,i);\n",
    "    }\n",
    "}\n",
    "\n",
    "/*=========== CONSTRAINTS =====================*/\n",
    "void constr_models(fitinfo *fit)\n",
    "{\n",
    "    int i;\n",
    "    //int iPeaked,iMaxPeak, k, i2;\n",
    "    //fitpars *pars = &fit[0].pars;\n",
    "    \n",
    "    \n",
    "    /* Rescue the free parameters from the model. */\n",
    "    //for (i=0; i < fit[1].pars.n; i++)\n",
    "    //    fit[1].pars.value[i] = *(fit[1].pars.address[i]);\n",
    "    \n",
    "    /* Go through all layers copying parameters from model 0 to other models */\n",
    "    //tied_parameters(fit);\n",
    "    \n",
    "    \n",
    "    /* Restore the free parameters to the model. */\n",
    "    //for (i=0; i < fit[1].pars.n; i++){\n",
    "    //    *(fit[1].pars.address[i]) = fit[1].pars.value[i];\n",
    "    //}\n",
    "    \n",
    "    for (i=0; i<MODELS; i++) {\n",
    "        fit[i].beam.background=pow(10,background[i]);\n",
    "    }\n",
    "    \n",
    "    \n",
    "    //---- d31-POPC bilayer ----\n",
    "    //----Neat -------\n",
    "    fnSetContrastBilayer(sigma, global_rough, fit[0].m.rho[0], rho_siox, l_siox, l_submembrane, l_lipid1, l_lipid2, vf_bilayer, fit, 0, 0);\n",
    "    \n",
    "    \n",
    "}\n",
    "\n",
    "void save(fitinfo *fit)\n",
    "{\n",
    "    fnSetContrastBilayer(sigma, global_rough, fit[0].m.rho[0], rho_siox, l_siox, l_submembrane, l_lipid1, l_lipid2, vf_bilayer, fit, 0, 0);\n",
    "    FILE *fp;\n",
    "    fp=fopen(\"mol.dat\",\"w\");        \n",
    "    bilayer.fnWriteGroup2File(fp,\"bilayer\",DIMENSION,STEPSIZE);\n",
    "    fclose(fp);\n",
    "}\n",
    "\n",
    "\n",
    "/*============ INITIAL SETUP ============================*/\n",
    "extern \"C\"\n",
    "fitinfo* setup_models(int *models)\n",
    "{\n",
    "    static fitinfo fit[MODELS];\n",
    "    int i,j;\n",
    "    fitpars *pars = &fit[0].pars;\n",
    "    fitpars *freepars = &fit[1].pars;\n",
    "    *models = MODELS;\n",
    "    \n",
    "    for (i=0; i < MODELS; i++) fit_init(&fit[i]);\n",
    "    \n",
    "    /* Load the data for each model */\n",
    "    fit_data(&fit[0],\"sim0.dat\"); /*neat */\n",
    "    \n",
    "    /* Initialize instrument parameters for each model.*/\n",
    "    /* setup for NG7 */\n",
    "    for (i=0; i < MODELS; i++) {\n",
    "        \n",
    "        const double L = 5.00,dLoL=0.015,d=1800.0;\n",
    "        double Qlo, Tlo, dTlo,dToT,s1,s2;\n",
    "        Qlo=0.008;\n",
    "        Tlo=Q2T(L,Qlo);\n",
    "        s1=0.1, s2=s1;\n",
    "        dTlo=resolution_dT(s1,s2,d);\n",
    "        dToT=resolution_dToT(s1,s2,d,Tlo);\n",
    "        data_resolution_fv(&fit[i].dataA,L,dLoL,Qlo,dTlo,dToT);\n",
    "        fit[i].beam.lambda = L;\n",
    "        interface_create(&fit[i].rm, \"erf\", erf_interface, 21);\n",
    "    }\n",
    "    \n",
    "    /*============= MODEL =====================================*/\n",
    "    \n",
    "    /* Add layers: d, rho, mu, rough */\n",
    "    for (i=0; i < MODELS; i++) {\n",
    "        model_layer(&fit[i].m, 0.00000, 2.07e-6, 0.0e-8, 3.000);  \t/* 0 Si */\n",
    "        for (j=0; j < DIMENSION; j++) {\n",
    "            model_layer(&fit[i].m, STEPSIZE, 0.00e-6, 0.0e-8, 0);\t\t/* Canvas */\n",
    "        }\n",
    "        model_layer(&fit[i].m, 100.000, 6.35e-6, 0.0e-8, 0.000);\t\t/* Solvent */\n",
    "    }\n",
    "    \n",
    "    /*correct solvent layers for different models*/\n",
    "    /* fit[3].m.d[3] = ... */\n",
    "\n",
    "    //headgroup.bWrapping=false;\n",
    "    \n",
    "    /*=============== FIT PARAMETERS ===============================*/\n",
    "    \n",
    "    /* Specify which parameters are your fit parameters. Parameters are fitted\n",
    "     * to be the same in all datasets by default\n",
    "     */\n",
    "    \n",
    "    \n",
    "    pars_add(pars, \"l_siox\", &(l_siox), 10.0, 30.0);\n",
    "    pars_add(pars, \"rho_siox\", &(rho_siox), 3.2e-06, 3.8e-06);\n",
    "    pars_add(pars, \"l_submembrane\", &(l_submembrane), 1.0, 10.0);\n",
    "    pars_add(pars, \"l_lipid1\", &(l_lipid1), 10.0, 15.0);\n",
    "    pars_add(pars, \"l_lipid2\", &(l_lipid2), 10.0, 15.0);\n",
    "    pars_add(pars, \"vf_bilayer\", &(vf_bilayer), 0.9, 1.0);\n",
    "    \n",
    "    pars_add(pars, \"rho_solv_0\", &(fit[0].m.rho[fit[0].m.n-1]), -5.399999999999999e-07, 5.999999999999943e-08);\n",
    "    \n",
    "    pars_add(pars, \"global_rough\", &(global_rough), 2.0, 5.0);\n",
    "    pars_add(pars, \"sigma\",        &(sigma), 2.0, 5.0);\n",
    "    \n",
    "    pars_add(pars, \"background_0\", &(background[0]), -9.0, -5.0);\n",
    "    \n",
    "    /* Build a list of 'free parameters' in fit[1].pars. These are\n",
    "     * parameters for which the values are aloowed to differ from those\n",
    "     * in model 0.  By default all values in all models are the same unless \n",
    "     * specified here. The range data is not used here, so set it to [0,1].  \n",
    "     */\n",
    "    \n",
    "    //pars_add(freepars, \"rho_solv_1\", &(fit[1].m.rho[fit[1].m.n-1]), 0, 1);\n",
    "    \n",
    "    constraints = constr_models;\n",
    "    output_model = save;\n",
    "    return fit;\n",
    "}\n"
   ]
  },
  {
   "cell_type": "code",
   "execution_count": 3,
   "id": "26b01c0e",
   "metadata": {},
   "outputs": [
    {
     "name": "stdout",
     "output_type": "stream",
     "text": [
      "rm -f setup.o\n",
      "g++  -g -O2 -Wall  -fPIC -DUSE_DOUBLE -DReal=double -DHAVE_CONFIG_H -I/Users/frank/danse/refl1d/garefl/boxmin -I/Users/frank/danse/refl1d/garefl/model1d -I/Users/frank/danse/refl1d/garefl/src -c setup.cc -o setup.o\n",
      "\u001B[1msetup.cc:93:14: \u001B[0m\u001B[0;1;35mwarning: \u001B[0m\u001B[1munused variable 'freepars' [-Wunused-variable]\u001B[0m\n",
      "    fitpars *freepars = &fit[1].pars;\n",
      "\u001B[0;1;32m             ^\n",
      "\u001B[0m1 warning generated.\n",
      "cd /Users/frank/danse/refl1d/garefl/boxmin && /Applications/Xcode.app/Contents/Developer/usr/bin/make\n",
      "make[1]: Nothing to be done for `all'.\n",
      "cd /Users/frank/danse/refl1d/garefl/model1d && /Applications/Xcode.app/Contents/Developer/usr/bin/make\n",
      "make[1]: Nothing to be done for `all'.\n",
      "cd /Users/frank/danse/refl1d/garefl/src && /Applications/Xcode.app/Contents/Developer/usr/bin/make\n",
      "make[1]: Nothing to be done for `all'.\n",
      "g++    -fPIC -o fit setup.o /Users/frank/danse/refl1d/garefl/src/ga_simul.o /Users/frank/danse/refl1d/garefl/src/ga.o -L/Users/frank/danse/refl1d/garefl/model1d -lrefl -L/Users/frank/danse/refl1d/garefl/boxmin -lboxmin  -lm \n",
      "g++ -shared -o model.so setup.o /Users/frank/danse/refl1d/garefl/src/refl1d.o -L/Users/frank/danse/refl1d/garefl/model1d -lrefl  -lm \n",
      "zsh:1: /usr/local/bin//refl1d: bad interpreter: /usr/local/opt/python@3.8/bin/python3.8: no such file or directory\n",
      "# /Users/frank/opt/anaconda3/envs/Python37/bin/refl1d run.py --fit=dream --store=T --init=lhs --parallel --burn=100 --steps=5 --overwrite --seed=896114\n",
      "[0] = l_siox = 10 in [10,30]\n",
      "[1] = rho_siox = 3.2 in [3.2,3.8]\n",
      "[2] = l_submembrane = 1 in [1,10]\n",
      "[3] = l_lipid1 = 10 in [10,15]\n",
      "[4] = l_lipid2 = 10 in [10,15]\n",
      "[5] = vf_bilayer = 0.9 in [0.9,1]\n",
      "[6] = rho_solv_0 = 0.06 in [-0.54,0.06]\n",
      "[7] = global_rough = 2 in [2,5]\n",
      "[8] = sigma = 2 in [2,5]\n",
      "[9] = background_0 = -5 in [-9,-5]\n",
      "\n",
      "[chisq=678.43(17), nllf=22727.5]\n",
      "# steps: 5, # draws: 500\n",
      "step 1 cost 395.61(17)\n",
      "                                  l_siox ...|......    16.9333 in (10,30)\n",
      "                                rho_siox ....|.....    3.46817 in (3.2,3.8)\n",
      "                           l_submembrane ..|.......    3.23617 in (1,10)\n",
      "                                l_lipid1 ....|.....    12.4173 in (10,15)\n",
      "                                l_lipid2 ....|.....    12.3783 in (10,15)\n",
      "                              vf_bilayer .|........   0.911835 in (0.9,1)\n",
      "                              rho_solv_0 |.........  -0.485454 in (-0.54,0.06)\n",
      "                            global_rough .......|..    4.29097 in (2,5)\n",
      "                                   sigma ...|......    2.92758 in (2,5)\n",
      "                            background_0 |.........   -8.60553 in (-9,-5)\n",
      "step 23 cost 390.40(17)\n",
      "step 48 cost 389.45(17)\n",
      "step 73 cost 388.73(17)\n",
      "step 97 cost 388.73(17)\n",
      "Did not converge!\n",
      "[0] = l_siox = 25.7561 in [10,30]\n",
      "[1] = rho_siox = 3.2071 in [3.2,3.8]\n",
      "[2] = l_submembrane = 5.21707 in [1,10]\n",
      "[3] = l_lipid1 = 10.5304 in [10,15]\n",
      "[4] = l_lipid2 = 11.5198 in [10,15]\n",
      "[5] = vf_bilayer = 0.991594 in [0.9,1]\n",
      "[6] = rho_solv_0 = -0.539467 in [-0.54,0.06]\n",
      "[7] = global_rough = 4.98935 in [2,5]\n",
      "[8] = sigma = 2.30682 in [2,5]\n",
      "[9] = background_0 = -7.88303 in [-9,-5]\n",
      "\n",
      "[chisq=388.71(17), nllf=13021.7]\n",
      "\u0007\n",
      "Figure(640x480)\n",
      "Figure(1415x700)\n",
      "Figure(640x480)\n",
      "Figure(640x480)\n",
      "Figure(640x480)\n",
      "Figure(640x480)\n",
      "Figure(640x480)\n"
     ]
    }
   ],
   "source": [
    "!make clean\n",
    "!make\n",
    "!cp hk054.refl sim0.dat\n",
    "!refl1d run.py --fit=dream --store=T --init=lhs --parallel --burn=100 --steps=5 --overwrite"
   ]
  },
  {
   "cell_type": "markdown",
   "id": "b18e61c0",
   "metadata": {},
   "source": [
    "# Defining Optimization Parameters in simpar.dat"
   ]
  },
  {
   "cell_type": "markdown",
   "id": "9312ca15",
   "metadata": {},
   "source": [
    "Simpar.dat contains a list of all fit parameters with a designation, whether they are marginal (d) or nuisance (i) parameters. This is followed by the parameter name, the initial parameter value, and the fit boundaries. If three more numbers are given, this designates that an information content search over this parameter is performed (start, stop, step). A preceding f (fi or fd) at the beginning of the line indicates that the fit boundaries for such a search parameter are fixed (for example for volume fractions between 0 and 1), otherwise the fit boundary moves according to the varied parameter and the initally given fit boundaries."
   ]
  },
  {
   "cell_type": "code",
   "execution_count": 4,
   "id": "167483a5",
   "metadata": {},
   "outputs": [
    {
     "name": "stdout",
     "output_type": "stream",
     "text": [
      "Overwriting entropypar.dat\n"
     ]
    }
   ],
   "source": [
    "%%writefile entropypar.dat\n",
    "i l_siox 18 10 30\n",
    "i rho_siox 3.55e-6 3.20e-6 3.80e-6\n",
    "i l_submembrane 2.5 1.0 10.0\n",
    "d l_lipid1 11.8 10.0 15.0\n",
    "d l_lipid2 12.4 10.0 15.0\n",
    "d vf_bilayer 0.95 0.90 1.00\n",
    "i rho_solv_0 6.34e-6 5.8e-6 6.4e-6 -0.5e-6 6.5e-6 0.5e-6\n",
    "i global_rough 3.0 2.0 5.0\n",
    "i sigma 2.5 2.0 5.0\n",
    "i background_0 -8.0 -9.0 -5.0\n",
    "n prefactor 2.58496"
   ]
  },
  {
   "cell_type": "markdown",
   "id": "edd90e18",
   "metadata": {},
   "source": [
    "# Variables"
   ]
  },
  {
   "cell_type": "code",
   "execution_count": 5,
   "id": "5e6c29ab",
   "metadata": {},
   "outputs": [],
   "source": [
    "# general fit setup\n",
    "setupdir = os.getcwd()\n",
    "runfile = \"run\"\n",
    "store = 'T'\n",
    "fitsource = \"garefl\"\n",
    "\n",
    "# particular entropy setup\n",
    "burn = 8000\n",
    "steps = 500\n",
    "convergence = 2.0\n",
    "miniter = 2\n",
    "mode = 'water'\n",
    "bClusterMode = False\n",
    "bFetchMode = False\n",
    "time = 2\n",
    "bcalcsymmetric = True\n",
    "upper_info_plotlevel = None\n",
    "plotlimits_filename = \"\"\n",
    "calcsingle = False\n",
    "\n",
    "# setup batchscript for SLURM (if used)\n",
    "script = []\n",
    "script.append('#!/bin/bash\\n')\n",
    "script.append('#SBATCH --job-name=entro {mcmc_iteration}\\n')\n",
    "script.append('#SBATCH -A mc4s9np\\n')\n",
    "script.append('#SBATCH -p RM\\n')\n",
    "script.append('#SBATCH -t 0' + str(time) + ':00:00\\n')\n",
    "script.append('#SBATCH -N 4\\n')\n",
    "script.append('#SBATCH --ntasks-per-node 28\\n')\n",
    "script.append('\\n')\n",
    "script.append('set +x\\n')\n",
    "script.append('cd $SLURM_SUBMIT_DIR\\n')\n",
    "# script.append('cd '+dirname+'\\n')\n",
    "script.append('\\n')\n",
    "script.append('module load python/2.7.11_gcc\\n')\n",
    "script.append('export PYTHONPATH=/home/hoogerhe/bin/lib/python2.7/site-packages:/home/hoogerhe/src/bumps\\n')\n",
    "script.append('\\n')\n",
    "script.append('mpirun -np 112 python /home/hoogerhe/src/refl1d/bin/refl1d_cli.py {mcmc_dirname}/run.py --fit=dream --mpi --init=lhs --batch --pop=28 --time=' \n",
    "              + str(float(time) - 0.1) + ' --thin=20 --store={mcmc_dirname}/save --burn=' + str(burn) \n",
    "              + ' --steps=' + str(steps) + '\\n')\n"
   ]
  },
  {
   "cell_type": "markdown",
   "id": "13a6038b",
   "metadata": {},
   "source": [
    "# Fit Setup"
   ]
  },
  {
   "cell_type": "code",
   "execution_count": 6,
   "id": "353e45f9",
   "metadata": {},
   "outputs": [
    {
     "name": "stdout",
     "output_type": "stream",
     "text": [
      "g++  -g -O2 -Wall  -fPIC -DUSE_DOUBLE -DReal=double -DHAVE_CONFIG_H -I/Users/frank/danse/refl1d/garefl/boxmin -I/Users/frank/danse/refl1d/garefl/model1d -I/Users/frank/danse/refl1d/garefl/src -c setup.cc -o setup.o\n"
     ]
    },
    {
     "name": "stderr",
     "output_type": "stream",
     "text": [
      "setup.cc:93:14: warning: unused variable 'freepars' [-Wunused-variable]\n",
      "    fitpars *freepars = &fit[1].pars;\n",
      "             ^\n",
      "1 warning generated.\n"
     ]
    },
    {
     "name": "stdout",
     "output_type": "stream",
     "text": [
      "cd /Users/frank/danse/refl1d/garefl/boxmin && /Applications/Xcode.app/Contents/Developer/usr/bin/make\n",
      "make[1]: Nothing to be done for `all'.\n",
      "cd /Users/frank/danse/refl1d/garefl/model1d && /Applications/Xcode.app/Contents/Developer/usr/bin/make\n",
      "make[1]: Nothing to be done for `all'.\n",
      "cd /Users/frank/danse/refl1d/garefl/src && /Applications/Xcode.app/Contents/Developer/usr/bin/make\n",
      "make[1]: Nothing to be done for `all'.\n",
      "g++    -fPIC -o fit setup.o /Users/frank/danse/refl1d/garefl/src/ga_simul.o /Users/frank/danse/refl1d/garefl/src/ga.o -L/Users/frank/danse/refl1d/garefl/model1d -lrefl -L/Users/frank/danse/refl1d/garefl/boxmin -lboxmin  -lm \n",
      "g++ -shared -o model.so setup.o /Users/frank/danse/refl1d/garefl/src/refl1d.o -L/Users/frank/danse/refl1d/garefl/model1d -lrefl  -lm \n"
     ]
    }
   ],
   "source": [
    "entr = entropy.Entropy(\n",
    "    fitsource=fitsource,\n",
    "    spath=setupdir,\n",
    "    mcmcpath=store,\n",
    "    runfile=runfile,\n",
    "    mcmcburn=burn, \n",
    "    mcmcsteps=steps, \n",
    "    convergence=convergence, \n",
    "    miniter=miniter, \n",
    "    mode=mode,                      \n",
    "    bClusterMode=bClusterMode, \n",
    "    bFetchMode=bFetchMode, \n",
    "    calc_symmetric=bcalcsymmetric,\n",
    "    upper_info_plotlevel=upper_info_plotlevel, \n",
    "    plotlimits_filename=plotlimits_filename,\n",
    "    slurmscript=script\n",
    ")"
   ]
  },
  {
   "cell_type": "code",
   "execution_count": 7,
   "id": "72068763",
   "metadata": {},
   "outputs": [
    {
     "name": "stdout",
     "output_type": "stream",
     "text": [
      "2.0 2\n",
      "2.0 2\n",
      "2.0 2\n",
      "2.0 2\n",
      "2.0 2\n",
      "2.0 2\n",
      "2.0 2\n",
      "2.0 2\n",
      "2.0 2\n",
      "2.0 2\n",
      "3.0 2\n",
      "2.0 2\n",
      "2.0 2\n",
      "2.0 2\n",
      "2.0 2\n",
      "2.0 2\n",
      "2.0 2\n",
      "2.0 2\n",
      "2.0 2\n",
      "2.0 2\n",
      "2.0 2\n",
      "2.0 2\n",
      "2.0 2\n",
      "2.0 2\n",
      "2.0 2\n",
      "3.0 2\n",
      "2.0 2\n",
      "2.0 2\n",
      "2.0 2\n",
      "2.0 2\n"
     ]
    }
   ],
   "source": [
    "entr.run_optimization()"
   ]
  },
  {
   "cell_type": "code",
   "execution_count": 8,
   "id": "63e19b1e",
   "metadata": {},
   "outputs": [],
   "source": [
    "entr.plot_results()"
   ]
  },
  {
   "cell_type": "code",
   "execution_count": null,
   "id": "dec2fd75",
   "metadata": {},
   "outputs": [],
   "source": []
  }
 ],
 "metadata": {
  "interpreter": {
   "hash": "05d582df831dd7fae68dfffc73e5ea31ad7a23d6a2275d5f88151c2f48f29d76"
  },
  "kernelspec": {
   "display_name": "Python 3 (ipykernel)",
   "language": "python",
   "name": "python3"
  },
  "language_info": {
   "codemirror_mode": {
    "name": "ipython",
    "version": 3
   },
   "file_extension": ".py",
   "mimetype": "text/x-python",
   "name": "python",
   "nbconvert_exporter": "python",
   "pygments_lexer": "ipython3",
   "version": "3.7.12"
  }
 },
 "nbformat": 4,
 "nbformat_minor": 5
}
